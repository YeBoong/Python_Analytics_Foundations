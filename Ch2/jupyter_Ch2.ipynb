{
 "cells": [
  {
   "cell_type": "markdown",
   "metadata": {},
   "source": [
    "# CSV 파일"
   ]
  },
  {
   "cell_type": "markdown",
   "metadata": {},
   "source": [
    "+ jupyter에서는 코드만 작성. 실행은 VS Code를 통해서."
   ]
  },
  {
   "cell_type": "markdown",
   "metadata": {},
   "source": [
    "## CSV 파일 읽고 쓰기(파트1)"
   ]
  },
  {
   "cell_type": "markdown",
   "metadata": {},
   "source": [
    "### CSV 모듈을 사용하지 않는 기본 파이썬 코드"
   ]
  },
  {
   "cell_type": "code",
   "execution_count": null,
   "metadata": {},
   "outputs": [],
   "source": [
    "#!/usr/bin/env python3\n",
    "import sys\n",
    "\n",
    "input_file = sys.argv[1]\n",
    "output_file = sys.argv[2]\n",
    "\n",
    "with open(input_file, 'r', newline = '') as filereader:\n",
    "    with open(output_file, 'w', newline = '') as filewriter :\n",
    "        header = filereader.readline()\n",
    "        header = header.strip()\n",
    "        header_list = header.split(',')\n",
    "        print(header_list)\n",
    "        \n",
    "        # 구분자.join(map(변환하고자 하는 데이터 타입, 적용할 리스트))\n",
    "        # : 리스트의 모든 요소들을 변환하고자 하는 데이터 타입으로 변환시켜 요소 사이마다 구분자를 넣어 하나로 연결.\n",
    "        filewriter.write(','.join(map(str, header_list))+'\\n')\n",
    "        \n",
    "        for row in filereader :\n",
    "            row = row.strip()\n",
    "            row_list = row.split()\n",
    "            print(row_list)\n",
    "            filewriter.write(','.join(map(str, row_list))+'\\n')\n",
    "        "
   ]
  },
  {
   "cell_type": "markdown",
   "metadata": {},
   "source": [
    "### 팬더스"
   ]
  },
  {
   "cell_type": "code",
   "execution_count": null,
   "metadata": {},
   "outputs": [],
   "source": [
    "#!/usr/bin/env python3\n",
    "import sys\n",
    "import pandas as pd\n",
    "\n",
    "input_file = sys.argv[1]\n",
    "output_file = sys.argv[2]\n",
    "\n",
    "data_frame = pd.read_csv(input_file)\n",
    "print(data_frame)\n",
    "data_frame.to_csv(output_file, index = False)"
   ]
  },
  {
   "cell_type": "markdown",
   "metadata": {},
   "source": [
    "## CSV 파일 읽고 쓰기(파트2)"
   ]
  },
  {
   "cell_type": "markdown",
   "metadata": {},
   "source": [
    "### 기본 파이썬(csv 모듈 사용)"
   ]
  },
  {
   "cell_type": "code",
   "execution_count": null,
   "metadata": {},
   "outputs": [],
   "source": [
    "#!/usr/bin/env python3\n",
    "import sys\n",
    "import csv\n",
    "\n",
    "input_file = sys.argv[1]\n",
    "output_file = sys.argv[2]\n",
    "\n",
    "with open(input_file, 'r', newline = '') as csv_in_file :\n",
    "    with open(output_file, 'w', newline = '') as csv_out_file :\n",
    "        # csv.reader() / csv.writer()의 delimiter 옵션\n",
    "        # : 행 구분자. 기본값은 쉼표(,) 이므로 쉼표일 경우 굳이 쓰지 않아도 된다.\n",
    "        filereader = csv.reader(csv_in_file, delimiter = ',')\n",
    "        filewriter = csv.writer(csv_out_file, delimiter = ',')\n",
    "        for row in filereader : \n",
    "            filewriter.writerow(row)"
   ]
  },
  {
   "cell_type": "markdown",
   "metadata": {},
   "source": [
    "## 특정 행을 필터링하기"
   ]
  },
  {
   "cell_type": "markdown",
   "metadata": {},
   "source": [
    "+ 기본 코드 구조"
   ]
  },
  {
   "cell_type": "code",
   "execution_count": 1,
   "metadata": {},
   "outputs": [
    {
     "ename": "SyntaxError",
     "evalue": "invalid syntax (<ipython-input-1-dce08934eefa>, line 2)",
     "output_type": "error",
     "traceback": [
      "\u001b[1;36m  File \u001b[1;32m\"<ipython-input-1-dce08934eefa>\"\u001b[1;36m, line \u001b[1;32m2\u001b[0m\n\u001b[1;33m    if 특정 조건 :\u001b[0m\n\u001b[1;37m           ^\u001b[0m\n\u001b[1;31mSyntaxError\u001b[0m\u001b[1;31m:\u001b[0m invalid syntax\n"
     ]
    }
   ],
   "source": [
    "for row in filereader :\n",
    "    if 특정 조건 :\n",
    "        이러이러한 일을 한다.\n",
    "    else : \n",
    "        아니면 다른 일을 한다"
   ]
  },
  {
   "cell_type": "markdown",
   "metadata": {},
   "source": [
    "### 특정 조건을 충족하는 행의 필터링"
   ]
  },
  {
   "cell_type": "markdown",
   "metadata": {},
   "source": [
    "+ 기본 파이썬"
   ]
  },
  {
   "cell_type": "code",
   "execution_count": null,
   "metadata": {},
   "outputs": [],
   "source": [
    "#!/usr/bin/env python3\n",
    "import sys\n",
    "import csv\n",
    "\n",
    "input_file = sys.argv[1]\n",
    "output_file = sys.argv[2]\n",
    "\n",
    "with open(input_file, 'r', newline = '') as csv_in_file :\n",
    "    with open(output_file, 'w', newline = '') as csv_out_file :\n",
    "        filereader = csv.reader(csv_in_file)\n",
    "        filewriter = csv.writer(csv_out_file)\n",
    "        header = next(filereader)\n",
    "        filewriter.writerow(header)\n",
    "        \n",
    "        for row_list in filereader :\n",
    "            supplier = str(row_list[0]).strip()\n",
    "            cost = str(row_list[3]).strip('$').replace(',', '')\n",
    "            if supplier == 'Supplier Z' or float(cost) > 600.00 :\n",
    "                filewriter.writerow(row_list)\n",
    "                print(row_list)\n",
    "        \n",
    "        "
   ]
  },
  {
   "cell_type": "markdown",
   "metadata": {},
   "source": [
    "+ 팬더스"
   ]
  },
  {
   "cell_type": "code",
   "execution_count": null,
   "metadata": {},
   "outputs": [],
   "source": [
    "#!/usr/bin/env python3\n",
    "import sys\n",
    "import pandas as pd\n",
    "\n",
    "input_file = sys.argv[1]\n",
    "output_file = sys.argv[2]\n",
    "\n",
    "data_frame = pd.read_csv(input_file)\n",
    "\n",
    "data_frame['Cost'] = data_frame['Cost'].str.strip('$').replace(',', '').astype(float)\n",
    "data_frame_value_meets_conditon = data_frame.loc[(data_frame['Supplier Name'].str.contains('Z')) | (data_frame['Cost'] > 600.00), :]\n",
    "data_frame_value_meets_condtion.to_csv(output_file)\n",
    "print(data_frame_value_meets_condition)"
   ]
  },
  {
   "cell_type": "markdown",
   "metadata": {},
   "source": [
    "### 특정 집합의 값을 포함하는 행의 필터링"
   ]
  },
  {
   "cell_type": "markdown",
   "metadata": {},
   "source": [
    "+ 기본 파이썬"
   ]
  },
  {
   "cell_type": "code",
   "execution_count": null,
   "metadata": {},
   "outputs": [],
   "source": [
    "#!/usr/bin/env python3\n",
    "import sys\n",
    "import csv\n",
    "\n",
    "input_file = sys.argv[1]\n",
    "output_file = sys.argv[2]\n",
    "\n",
    "important_dates = ['1/20/14', '1/30/14']\n",
    "\n",
    "with open(input_file, 'r', newline = '') as csv_in_file:\n",
    "    with open(output_file, 'w', newline = '') as csv_out_file:\n",
    "        filereader = csv.reader(csv_in_file)\n",
    "        filewriter = csv.writer(csv_out_file)\n",
    "        header = next(filereader)\n",
    "        filewriter.writerow(header)\n",
    "        print(header)\n",
    "        \n",
    "        for row_list in filereader:\n",
    "            a_date = row_list[4]\n",
    "            if a_date in important_dates:\n",
    "                filewriter.writerow(row_list)"
   ]
  },
  {
   "cell_type": "markdown",
   "metadata": {},
   "source": [
    "+ 팬더스"
   ]
  },
  {
   "cell_type": "code",
   "execution_count": null,
   "metadata": {},
   "outputs": [],
   "source": [
    "#!/usr/bin/env python3\n",
    "import sys\n",
    "import pandas\n",
    "\n",
    "input_file = sys.argv[1]\n",
    "output_file = sys.argv[2]\n",
    "\n",
    "important_dates = ['1/20/14', '1/31/14']\n",
    "\n",
    "data_frame = pd.read_csv(input_file)\n",
    "data_frame_value_in_set = data_frame.loc[data_frame['Purchase Date'].isin(important_dates)]\n",
    "data_frame_value_in_set.to_csv(output_file)\n",
    "print(data_frame_value_in_set)\n"
   ]
  },
  {
   "cell_type": "markdown",
   "metadata": {},
   "source": [
    "### 패턴 / 정규 표현식을 활용한 필터링"
   ]
  },
  {
   "cell_type": "markdown",
   "metadata": {},
   "source": [
    "+ 기본 파이썬"
   ]
  },
  {
   "cell_type": "code",
   "execution_count": null,
   "metadata": {},
   "outputs": [],
   "source": [
    "#!/usr/bin/env python3\n",
    "import sys\n",
    "import re\n",
    "import csv\n",
    "\n",
    "input_file = sys.argv[1]\n",
    "output_file = sys.argv[2]\n",
    "\n",
    "pattern = re.compile(r'(?P<my_pattern_group>^001-.*)', re.I)\n",
    "\n",
    "with open(input_file, 'r', newline = '') as csv_in_file:\n",
    "    with open(output_file, 'w', newline = '') as csv_out_file:\n",
    "        filereader = csv.reader(csv_in_file)\n",
    "        filewriter = csv.writer(csv_out_file)\n",
    "        \n",
    "        header = next(filereader)\n",
    "        filewriter.writerow(header)\n",
    "        print(header)\n",
    "\n",
    "        for row in filereader :\n",
    "            invoice_num = row[1]\n",
    "            if pattern.search(invoice_num):\n",
    "                filewriter.writerow(row)\n",
    "                print(row)"
   ]
  },
  {
   "cell_type": "markdown",
   "metadata": {},
   "source": [
    "+ 팬더스"
   ]
  },
  {
   "cell_type": "code",
   "execution_count": null,
   "metadata": {},
   "outputs": [],
   "source": [
    "#!/usr/bin/env python3\n",
    "import pandas as pd\n",
    "import sys\n",
    "\n",
    "input_file = sys.argv[1]\n",
    "output_file = sys.argv[2]\n",
    "\n",
    "data_frame = pd.read_csv(input_file)\n",
    "data_frame_value_matches_pattern = data_frame.loc[data_frame['Invoice Number'].str.startswith('001-'), :]\n",
    "data_frame_value_matches_pattern.to_csv(output_file, index=False)\n",
    "print(data_frame_value_matches_pattern)"
   ]
  },
  {
   "cell_type": "markdown",
   "metadata": {},
   "source": [
    "## 특정 열 선택하기"
   ]
  },
  {
   "cell_type": "markdown",
   "metadata": {},
   "source": [
    "### 열의 인덱스 값을 사용하여 특정 열을 선택하는 방법"
   ]
  },
  {
   "cell_type": "markdown",
   "metadata": {},
   "source": [
    "+ 기본 파이썬"
   ]
  },
  {
   "cell_type": "code",
   "execution_count": null,
   "metadata": {},
   "outputs": [],
   "source": [
    "#!/usr/bin/env python3\n",
    "import sys\n",
    "import csv\n",
    "\n",
    "input_file = sys.argv[1]\n",
    "output_file = sys.argv[2]\n",
    "\n",
    "important_col = [0, 3]\n",
    "\n",
    "with open(input_file, 'r', newline = '') as csv_in_file:\n",
    "    with open(output_file, 'w', newline = '') as csv_out_file:\n",
    "        filereader = csv.reader(csv_in_file)\n",
    "        filewriter = csv.writer(csv_out_file)\n",
    "        for row_list in filereader:\n",
    "            row_list_output = []\n",
    "            for index_value in important_col:\n",
    "                row_list_output.append(row_list[index_value])\n",
    "            filewriter.writerow(row_list_output)\n",
    "            print(row_list_output)"
   ]
  },
  {
   "cell_type": "markdown",
   "metadata": {},
   "source": [
    "+ 팬더스"
   ]
  },
  {
   "cell_type": "code",
   "execution_count": null,
   "metadata": {},
   "outputs": [],
   "source": [
    "#!/usr/bin/env python3\n",
    "import pandas as pd\n",
    "import sys\n",
    "\n",
    "input_file = sys.argv[1]\n",
    "output_file = sys.argv[2]\n",
    "\n",
    "important_col = [0, 3]\n",
    "\n",
    "data_frame = pd.read_csv(input_file)\n",
    "data_frame_column_by_index = data_frame.iloc[:, [0, 3]]\n",
    "data_frame_column_by_index.to_csv(output_file, index = False)\n",
    "print(data_frame_column_by_index)"
   ]
  },
  {
   "cell_type": "markdown",
   "metadata": {},
   "source": [
    "### 열의 헤더를 사용하여 특정 열을 선택하는 방법"
   ]
  },
  {
   "cell_type": "markdown",
   "metadata": {},
   "source": [
    "+ 기본 파이썬"
   ]
  },
  {
   "cell_type": "code",
   "execution_count": 1,
   "metadata": {
    "scrolled": true
   },
   "outputs": [
    {
     "ename": "FileNotFoundError",
     "evalue": "[Errno 2] No such file or directory: '-f'",
     "output_type": "error",
     "traceback": [
      "\u001b[1;31m---------------------------------------------------------------------------\u001b[0m",
      "\u001b[1;31mFileNotFoundError\u001b[0m                         Traceback (most recent call last)",
      "\u001b[1;32m<ipython-input-1-789a18cbd1ed>\u001b[0m in \u001b[0;36m<module>\u001b[1;34m\u001b[0m\n\u001b[0;32m      9\u001b[0m \u001b[0mmy_col_index\u001b[0m \u001b[1;33m=\u001b[0m \u001b[1;33m[\u001b[0m\u001b[1;33m]\u001b[0m\u001b[1;33m\u001b[0m\u001b[1;33m\u001b[0m\u001b[0m\n\u001b[0;32m     10\u001b[0m \u001b[1;33m\u001b[0m\u001b[0m\n\u001b[1;32m---> 11\u001b[1;33m \u001b[1;32mwith\u001b[0m \u001b[0mopen\u001b[0m\u001b[1;33m(\u001b[0m\u001b[0minput_file\u001b[0m\u001b[1;33m,\u001b[0m \u001b[1;34m'r'\u001b[0m\u001b[1;33m,\u001b[0m \u001b[0mnewline\u001b[0m \u001b[1;33m=\u001b[0m \u001b[1;34m''\u001b[0m\u001b[1;33m)\u001b[0m \u001b[1;32mas\u001b[0m \u001b[0mcsv_in_file\u001b[0m\u001b[1;33m:\u001b[0m\u001b[1;33m\u001b[0m\u001b[1;33m\u001b[0m\u001b[0m\n\u001b[0m\u001b[0;32m     12\u001b[0m     \u001b[1;32mwith\u001b[0m \u001b[0mopen\u001b[0m\u001b[1;33m(\u001b[0m\u001b[0moutput_file\u001b[0m\u001b[1;33m,\u001b[0m \u001b[1;34m'w'\u001b[0m\u001b[1;33m,\u001b[0m \u001b[0mnewline\u001b[0m \u001b[1;33m=\u001b[0m \u001b[1;34m''\u001b[0m\u001b[1;33m)\u001b[0m \u001b[1;32mas\u001b[0m \u001b[0mcsv_out_file\u001b[0m\u001b[1;33m:\u001b[0m\u001b[1;33m\u001b[0m\u001b[1;33m\u001b[0m\u001b[0m\n\u001b[0;32m     13\u001b[0m         \u001b[0mfilereader\u001b[0m \u001b[1;33m=\u001b[0m \u001b[0mcsv\u001b[0m\u001b[1;33m.\u001b[0m\u001b[0mreader\u001b[0m\u001b[1;33m(\u001b[0m\u001b[0mcsv_in_file\u001b[0m\u001b[1;33m)\u001b[0m\u001b[1;33m\u001b[0m\u001b[1;33m\u001b[0m\u001b[0m\n",
      "\u001b[1;31mFileNotFoundError\u001b[0m: [Errno 2] No such file or directory: '-f'"
     ]
    }
   ],
   "source": [
    "#!/usr/bin/env python3\n",
    "import csv\n",
    "import sys\n",
    "\n",
    "input_file = sys.argv[1]\n",
    "output_file = sys.argv[2]\n",
    "\n",
    "important_cols = ['Invoice Number', 'Purchase Date']\n",
    "my_col_index = []\n",
    "\n",
    "with open(input_file, 'r', newline = '') as csv_in_file:\n",
    "    with open(output_file, 'w', newline = '') as csv_out_file:\n",
    "        filereader = csv.reader(csv_in_file)\n",
    "        filewriter = csv.writer(csv_out_file)\n",
    "        header = next(filereader)\n",
    "        \n",
    "        for index_value in range(len(header)):\n",
    "            if header[index_value] in important_cols:\n",
    "                my_col_index.append(index_value)\n",
    "        filewriter.writerow(important_cols)\n",
    "        print(important_cols)\n",
    "        \n",
    "        for row_list in filereader:\n",
    "            row_list_output = []\n",
    "            for index_value in range(len(row_list)):\n",
    "                if index_value in my_col_index:\n",
    "                    row_list_output.append(row_list[index_value])\n",
    "            filewriter.writerow(row_list_output)\n",
    "            print(row_list_output)\n",
    "                    "
   ]
  },
  {
   "cell_type": "markdown",
   "metadata": {},
   "source": [
    "+ 팬더스"
   ]
  },
  {
   "cell_type": "code",
   "execution_count": null,
   "metadata": {},
   "outputs": [],
   "source": [
    "#!/usr/bin/env python3\n",
    "import pandas as pd\n",
    "import sys\n",
    "\n",
    "input_file = sys.argv[1]\n",
    "output_file = sys.argv[2]\n",
    "\n",
    "\n",
    "data_frame = pd.read_csv(input_file)\n",
    "data_frame_column_by_name = data_frame.loc[:, ['Invoice Number', 'Purchase Date']]\n",
    "data_frame_column_by_name.to_csv(output_file, index = False)\n",
    "print(data_frame_column_by_name)"
   ]
  },
  {
   "cell_type": "markdown",
   "metadata": {},
   "source": [
    "## 연속 된 행 선택하기"
   ]
  },
  {
   "cell_type": "markdown",
   "metadata": {},
   "source": [
    "### 기본 파이썬"
   ]
  },
  {
   "cell_type": "code",
   "execution_count": null,
   "metadata": {},
   "outputs": [],
   "source": [
    "#!/usr/bin/env python3\n",
    "import csv\n",
    "import sys\n",
    "\n",
    "input_file = sys.argv[1]\n",
    "output_file = sys.argv[2]\n",
    "\n",
    "row_counter = 0\n",
    "with open(input_file, 'r', newline = '') as csv_in_file:\n",
    "    with open(output_file, 'w', newline = '') as csv_out_file:\n",
    "        filereader = csv.reader(csv_in_file)\n",
    "        filewriter = csv.writer(csv_out_file)\n",
    "        for row in filereader:\n",
    "            if row_counter >= 3 and row_counter<=15:\n",
    "                filewriter.writerow(row)\n",
    "                print(row)\n",
    "            row_counter += 1"
   ]
  },
  {
   "cell_type": "markdown",
   "metadata": {},
   "source": [
    "### 팬더스"
   ]
  },
  {
   "cell_type": "code",
   "execution_count": null,
   "metadata": {},
   "outputs": [],
   "source": [
    "#!/usr/bin/env python3\n",
    "import pandas as pd\n",
    "import sys\n",
    "\n",
    "input_file = sys.argv[1]\n",
    "output_file = sys.argv[2]\n",
    "\n",
    "data_frame = pd.read_csv(input_file, header = None)\n",
    "\n",
    "data_frame = data_frame.drop([0,1,2,16,17,18])\n",
    "data_frame.columns = data_frame.iloc[0]\n",
    "data_frame = data_frame.reindex(data_frame.index.drop(3))\n",
    "\n",
    "data_frame.to_csv(output_file, index = False)\n",
    "print(data_frame)"
   ]
  },
  {
   "cell_type": "markdown",
   "metadata": {},
   "source": [
    "## 헤더 추가하기"
   ]
  },
  {
   "cell_type": "markdown",
   "metadata": {},
   "source": [
    "### 기본 파이썬"
   ]
  },
  {
   "cell_type": "code",
   "execution_count": null,
   "metadata": {},
   "outputs": [],
   "source": [
    "#!/usr/bin/env python3\n",
    "import csv\n",
    "import sys\n",
    "\n",
    "input_file = sys.argv[1]\n",
    "output_file = sys.argv[2]\n",
    "\n",
    "with open(input_file, 'r', newline = '') as csv_in_file :\n",
    "    with open(output_file, 'w', newline = '') as csv_out_file :\n",
    "        filereader = csv_reader(csv_in_file)\n",
    "        filewriter = csv_writer(csv_out_file)\n",
    "        header_list = ['Supplier Name', 'Invoice Number', 'Part Number','Cost','Purchase Date']\n",
    "        filewriter.writerow(header_list)\n",
    "        print(header_list)\n",
    "        for row in filereader :\n",
    "            filewriter.writerow(row)\n",
    "            print(row)"
   ]
  },
  {
   "cell_type": "markdown",
   "metadata": {},
   "source": [
    "### 팬더스"
   ]
  },
  {
   "cell_type": "code",
   "execution_count": null,
   "metadata": {},
   "outputs": [],
   "source": [
    "#!/usr/bin/env python3\n",
    "import pandas as pd\n",
    "import sys\n",
    "\n",
    "input_file = sys.argv[1]\n",
    "output_file = sys.argv[2]\n",
    "\n",
    "header_list = ['Supplier Name', 'Invoice Number', 'Part Number','Cost','Purchase Date']\n",
    "\n",
    "data_frame = pd.read_csv(input_file, header = None, names = header_list)\n",
    "data_frame.to_csv(output_file)\n",
    "print(data_frame)"
   ]
  },
  {
   "cell_type": "markdown",
   "metadata": {},
   "source": [
    "## 여러 개의 CSV 파일 읽기"
   ]
  },
  {
   "cell_type": "markdown",
   "metadata": {},
   "source": [
    "### 전체 파일 개수 및 각 파일의 행 및 열 개수 계산"
   ]
  },
  {
   "cell_type": "code",
   "execution_count": null,
   "metadata": {},
   "outputs": [],
   "source": [
    "#!/usr/bin/env python3\n",
    "import sys\n",
    "import glob\n",
    "import csv\n",
    "import os\n",
    "\n",
    "input_path = sys.argv[1]\n",
    "\n",
    "file_counter = 0\n",
    "\n",
    "for input_file in glob.glob(os.path.join(input_path,'sales_*')):\n",
    "    file_counter += 1\n",
    "    with open(input_file, 'r', newline = '') as csv_in_file:\n",
    "        filereader = csv.reader(csv_in_file)\n",
    "        header = next(filereader)\n",
    "        row_count = 1\n",
    "        col_count = len(header)\n",
    "        for row in filereader:\n",
    "            row_count += 1\n",
    "        print(\"{0!s} : \\t{1:d} rows \\t{2:d} columns \\n\".format(os.path.basename(input_file), row_count, col_count))\n",
    "\n",
    "print(\"file_count : {}\".format(file_counter))"
   ]
  },
  {
   "cell_type": "markdown",
   "metadata": {},
   "source": [
    "## 여러 파일의 데이터 합치기"
   ]
  },
  {
   "cell_type": "markdown",
   "metadata": {},
   "source": [
    "### 기본 파이썬"
   ]
  },
  {
   "cell_type": "code",
   "execution_count": null,
   "metadata": {},
   "outputs": [],
   "source": [
    "#!/usr/bin/env python3\n",
    "import sys\n",
    "import csv\n",
    "import os\n",
    "import glob\n",
    "\n",
    "input_path = sys.argv[1]\n",
    "output_file = sys.argv[2]\n",
    "\n",
    "first_file = True\n",
    "for input_file in glob.glob(os.path.join(input_path, 'sales_*')):\n",
    "    with open(input_file, 'r', newline = '') as csv_in_file:\n",
    "        with open(output_file, 'a', newline = '') as csv_out_file:\n",
    "            filereader = csv.reader(csv_in_file)\n",
    "            filewriter = csv.writer(csv_out_file)\n",
    "            if first_file :\n",
    "                for row in filereader :\n",
    "                    filewriter.writerow(row)\n",
    "                    print(row)\n",
    "                    first_file = False\n",
    "            else:\n",
    "                header = next(filereader)\n",
    "                for row in filereader :\n",
    "                    filewriter.writerow(row)\n",
    "                    print(row)"
   ]
  },
  {
   "cell_type": "markdown",
   "metadata": {},
   "source": [
    "### 팬더스"
   ]
  },
  {
   "cell_type": "code",
   "execution_count": null,
   "metadata": {},
   "outputs": [],
   "source": [
    "#!/usr/bin/env python3\n",
    "import sys\n",
    "import pandas as pd\n",
    "import glob\n",
    "import os\n",
    "\n",
    "input_path = sys.argv[1]\n",
    "output_file = sys.argv[2]\n",
    "\n",
    "all_df = []\n",
    "\n",
    "for input_file in glob.glob(os.path.join(input_path,'sales_*')):\n",
    "    data_frame = pd.read_csv(input_file)\n",
    "    all_df.append(data_frame)\n",
    "data_frame_concat = pd.concat(all_df, axis=0, ignore_index = True)\n",
    "print(data_frame_concat)"
   ]
  },
  {
   "cell_type": "markdown",
   "metadata": {},
   "source": [
    "## 파일에서 데이터 값의 합계 및 평균 계산하기"
   ]
  },
  {
   "cell_type": "markdown",
   "metadata": {},
   "source": [
    "### 기본 파이썬"
   ]
  },
  {
   "cell_type": "code",
   "execution_count": null,
   "metadata": {},
   "outputs": [],
   "source": [
    "#!/usr/bin/env python3\n",
    "import sys\n",
    "import csv\n",
    "import glob\n",
    "import os\n",
    "\n",
    "input_path = sys.argv[1]\n",
    "output_file = sys.argv[2]\n",
    "\n",
    "output_header_list = ['file_name', 'total', 'mean']\n",
    "\n",
    "csv_out_file = open(output_file, 'w', newline = '')\n",
    "filewriter = csv.writer(csv_out_file)\n",
    "filewriter.writerow(output_header_list)\n",
    "\n",
    "for input_file in glob.glob(os.path.join(input_path, 'sales_*')):\n",
    "    with open(input_file, 'r', newline = '') as csv_in_file:\n",
    "        filereader = csv.reader(csv_in_file)\n",
    "        output_list = []\n",
    "        output_list.append(os.path.basename(input_file))\n",
    "        header = next(filereader)\n",
    "        total_sales = 0.0\n",
    "        number_of_sales = 0.0\n",
    "        for row in filereader :\n",
    "            sale_amount = row[3]\n",
    "            total_sales += float(str(sale_amount).strip('$').replace(',', ''))\n",
    "            number_of_sales += 1.0\n",
    "        avg_sales = total_sales / number_of_sales\n",
    "        output_list.append(total_sales)\n",
    "        output_list.append(avg_sales)\n",
    "        filewriter.writerow(output_list)\n",
    "        print(output_list)\n",
    "csv_out_file.close()"
   ]
  },
  {
   "cell_type": "markdown",
   "metadata": {},
   "source": [
    "### 팬더스"
   ]
  },
  {
   "cell_type": "code",
   "execution_count": null,
   "metadata": {},
   "outputs": [],
   "source": [
    "#!/usr/bin/env python3\n",
    "import pandas as pd\n",
    "import sys\n",
    "import glob\n",
    "import os\n",
    "\n",
    "input_path = sys.argv[1]\n",
    "output_file = sys.argv[2]\n",
    "\n",
    "all_files = glob.glob(os)\n",
    "all_df = []\n",
    "\n",
    "for input_file in glob.glob(os.path.join(input_path,'sales_*')):\n",
    "    df = pd.read_csv(input_file, header = None, index_col = None)\n",
    "    sales_amount = "
   ]
  }
 ],
 "metadata": {
  "kernelspec": {
   "display_name": "Python 3",
   "language": "python",
   "name": "python3"
  },
  "language_info": {
   "codemirror_mode": {
    "name": "ipython",
    "version": 3
   },
   "file_extension": ".py",
   "mimetype": "text/x-python",
   "name": "python",
   "nbconvert_exporter": "python",
   "pygments_lexer": "ipython3",
   "version": "3.7.4"
  }
 },
 "nbformat": 4,
 "nbformat_minor": 2
}
