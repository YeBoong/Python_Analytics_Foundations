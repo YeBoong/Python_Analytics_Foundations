{
 "cells": [
  {
   "cell_type": "code",
   "execution_count": 60,
   "metadata": {},
   "outputs": [
    {
     "data": {
      "text/plain": [
       "9"
      ]
     },
     "execution_count": 60,
     "metadata": {},
     "output_type": "execute_result"
    }
   ],
   "source": [
    "4 + 5"
   ]
  },
  {
   "cell_type": "code",
   "execution_count": 61,
   "metadata": {},
   "outputs": [
    {
     "name": "stdout",
     "output_type": "stream",
     "text": [
      "I'm excited to learn Python\n"
     ]
    }
   ],
   "source": [
    "print(\"I'm excited to learn Python\")"
   ]
  },
  {
   "cell_type": "markdown",
   "metadata": {},
   "source": [
    "# 파이썬 스크립트 생성의 기본"
   ]
  },
  {
   "cell_type": "code",
   "execution_count": 62,
   "metadata": {},
   "outputs": [
    {
     "name": "stdout",
     "output_type": "stream",
     "text": [
      "Output #1 : I'm excited to learn Python\n"
     ]
    }
   ],
   "source": [
    "#!/usr/bin/env/env python3\n",
    "print(\"Output #1 : I'm excited to learn Python\")"
   ]
  },
  {
   "cell_type": "markdown",
   "metadata": {},
   "source": [
    "# first_script"
   ]
  },
  {
   "cell_type": "code",
   "execution_count": 63,
   "metadata": {},
   "outputs": [
    {
     "name": "stdout",
     "output_type": "stream",
     "text": [
      "Output #2 : Four plus five equals 9 \n",
      "Output #3 : [1, 2, 3, 4], ['first', 'second', 'third', 'fourth'], [1, 2, 3, 4, 'first', 'second', 'third', 'fourth']\n"
     ]
    }
   ],
   "source": [
    "# 두 수를 더한다.\n",
    "x = 4\n",
    "y = 5\n",
    "z = x+y\n",
    "print(\"Output #2 : Four plus five equals {0:d} \".format(z))\n",
    "\n",
    "# 두 리스트를 더한다\n",
    "a = [1, 2, 3, 4]\n",
    "b = [\"first\", \"second\", \"third\", \"fourth\"]\n",
    "c = a+b\n",
    "print(\"Output #3 : {0}, {1}, {2}\".format(a,b,c))"
   ]
  },
  {
   "cell_type": "markdown",
   "metadata": {},
   "source": [
    "# 파이썬 기본 구성 요소"
   ]
  },
  {
   "cell_type": "markdown",
   "metadata": {},
   "source": [
    "## 숫자"
   ]
  },
  {
   "cell_type": "markdown",
   "metadata": {},
   "source": [
    "### 정수"
   ]
  },
  {
   "cell_type": "code",
   "execution_count": 64,
   "metadata": {},
   "outputs": [
    {
     "name": "stdout",
     "output_type": "stream",
     "text": [
      "Output #4 : 9\n",
      "Output #5 : 81\n",
      "Output #6 : 4.0\n"
     ]
    }
   ],
   "source": [
    "# 숫자 9를 변수 x에 할당\n",
    "x = 9\n",
    "print(\"Output #4 : {0}\".format(x))\n",
    "# 3의 n제곱 (**)\n",
    "print(\"Output #5 : {0}\".format(3**4))\n",
    "# 결과값 실수를 정수형으로 변환. (실수형 변환은 float)\n",
    "print(\"Output #6 : {0}\".format(int(8.3)/int(2.7)))"
   ]
  },
  {
   "cell_type": "markdown",
   "metadata": {},
   "source": [
    "### 실수"
   ]
  },
  {
   "cell_type": "code",
   "execution_count": 65,
   "metadata": {},
   "outputs": [
    {
     "name": "stdout",
     "output_type": "stream",
     "text": [
      "Output #7 : 3.074\n",
      "Output #8 : 12.0\n",
      "Output #9 : 2.67\n",
      "Output #10 : 2.6667\n"
     ]
    }
   ],
   "source": [
    "# 결과값 실수형 유지(소수점 세 번째 자리 까지 출력)\n",
    "print(\"Output #7 : {0:.3f}\".format(8.3/2.7))\n",
    "# 2.5*4.8을 변수 y에 할당하고 실수형으로 소수점 첫 번째 자리 까지 출력하도록 포맷\n",
    "y = 2.5*4.8\n",
    "print(\"Output #8 : {0:.1f}\".format(y))\n",
    "# 피연산자 일부를 float형으로 변환함으로써 결과를 실수로 변환하여 변수 r에 할당(소수점 두 번째 자리 까지)\n",
    "r = 8/float(3)\n",
    "print(\"Output #9 : {0:.2f}\".format(r))\n",
    "# 9변과 유사하지만 실수형 변환 대신 일부 피연산자를 직접 8.0으로 써서 실수로 변환(소수점 네 번째 자리 까지)\n",
    "print(\"Output #10 : {0:.4f}\".format(8.0/3))"
   ]
  },
  {
   "cell_type": "code",
   "execution_count": 66,
   "metadata": {},
   "outputs": [],
   "source": [
    "# 특정 변수가 자료형이 무엇인지 알고 싶을 때\n",
    "# type(변수명) 함수를 활용하면 자료형을 알 수 있다."
   ]
  },
  {
   "cell_type": "code",
   "execution_count": 67,
   "metadata": {},
   "outputs": [
    {
     "name": "stdout",
     "output_type": "stream",
     "text": [
      "Output #11 : 20.0855\n",
      "Output #12 : 1.39\n",
      "Output #13 : 9.0\n"
     ]
    }
   ],
   "source": [
    "# math 모듈 (수힉 관련) exp : 자연상수 e의 거듭제곱, log : 자연로그, sqrt : 제곱근\n",
    "from math import exp, log, sqrt\n",
    "print(\"Output #11 : {0:.4f}\".format(exp(3)))\n",
    "print(\"Output #12 : {0:.2f}\".format(log(4)))\n",
    "print(\"Output #13 : {0:.1f}\".format(sqrt(81)))"
   ]
  },
  {
   "cell_type": "markdown",
   "metadata": {},
   "source": [
    "## 문자열"
   ]
  },
  {
   "cell_type": "code",
   "execution_count": 68,
   "metadata": {},
   "outputs": [
    {
     "name": "stdout",
     "output_type": "stream",
     "text": [
      "Output #14 : I'm enjoying learning Python\n",
      "Output #15 : This is a long string. Without the backslashit would run off of the page on the right in the text editor and be verydifficult to read and edit. By using the backslash you can split the longstring into smaller strings on separate lines so that whole string is easyto view in the text editor\n",
      "Output #16 : You can use triple single quotes\n",
      "for multi-line comment strings\n",
      "Output #17 : You can also use triple double quotes\n",
      "for multi-line comment strings\n"
     ]
    }
   ],
   "source": [
    "# 작은따옴표, 큰따옴표, 삼중 작은따옴표/큰따옴표 \n",
    "# 작은 따옴표로 묶은 문자열 내에서 I'm과 같이 작은따옴표를 쓰고 싶을 경우 \\(역슬래시)를 써준다.\n",
    "print(\"Output #14 : {0:s}\".format('I\\'m enjoying learning Python'))\n",
    "\n",
    "# 긴 문자열을 쉽게 읽고 쉽게 작성하기 위해서는 \\(역슬래시)로 다수의 라인으로 나눠 입력한다.\n",
    "print(\"Output #15 : {0:s}\".format(\"This is a long string. Without the backslash\\\n",
    "it would run off of the page on the right in the text editor and be very\\\n",
    "difficult to read and edit. By using the backslash you can split the long\\\n",
    "string into smaller strings on separate lines so that whole string is easy\\\n",
    "to view in the text editor\"))\n",
    "\n",
    "# 삼중 작은따옴표/큰따옴표를 쓰면 \\n 같은 걸 쓰지 않고 다수의 라인으로 구성된 문자열을 만들 수 있다.\n",
    "print(\"Output #16 : {0:s}\".format('''You can use triple single quotes\n",
    "for multi-line comment strings'''))\n",
    "print(\"Output #17 : {0:s}\".format(\"\"\"You can also use triple double quotes\n",
    "for multi-line comment strings\"\"\"))"
   ]
  },
  {
   "cell_type": "code",
   "execution_count": 69,
   "metadata": {},
   "outputs": [
    {
     "name": "stdout",
     "output_type": "stream",
     "text": [
      "Output #18 : This is a short string.\n",
      "Output #19 : She is very very very very beautiful.\n",
      "Output #20 : 23\n"
     ]
    }
   ],
   "source": [
    "# 문자열을 다룰 때 유용한 연산자 or 함수\n",
    "# +, *, len\n",
    "\n",
    "# string 변수 2개를 + 연산자로 합치기\n",
    "string1 = \"This is a \"\n",
    "string2 = \"short string.\"\n",
    "sentence = string1 + string2\n",
    "print(\"Output #18 : {0:s}\".format(sentence))\n",
    "\n",
    "# * 연산자 : 지정 횟수 만큼 문자 반복 출력\n",
    "print(\"Output #19 : {0:s} {1:s}{2:s}\".format(\"She is\", \"very \"*4, \"beautiful.\"))\n",
    "\n",
    "# len 함수 : 문자열 길이 반환(스페이스바 포함)\n",
    "m = len(sentence)\n",
    "print(\"Output #20 : {0:d}\".format(m))"
   ]
  },
  {
   "cell_type": "code",
   "execution_count": 70,
   "metadata": {},
   "outputs": [
    {
     "name": "stdout",
     "output_type": "stream",
     "text": [
      "Output #21 : ['My', 'deliverable', 'is', 'due', 'in', 'May']\n",
      "Output #22 : FIRST PIECE : My, SECOND PIECE : deliverable, THIRD PIECE : is due in May\n",
      "Output #23 : ['Your', 'deliverable', 'is', 'due', 'in', 'June']\n",
      "Output #24 ; deliverable June June\n",
      "Output #25 : Your,deliverable,is,due,in,June\n"
     ]
    }
   ],
   "source": [
    "# split 함수 : 하나의 문자열을 나누어 리스트에 요소로 저장\n",
    "# 인수 지정을 하지 않을 경우 기본값으로 \" \"(공백문자) 기준으로 나눈다.\n",
    "# split(나누는 기준 문자, 숫자(처음부터 지정 숫자 만큼만 나눔. ex) 2번 나눌 경우 3개의 요소가 생김.))\n",
    "string1 = \"My deliverable is due in May\"\n",
    "string1_list1 = string1.split()\n",
    "string1_list2 = string1.split(\" \", 2)\n",
    "\n",
    "# 인수 지정을 안했기 때문에 기본값으로 공백마다 문자열을 자른다.\n",
    "print(\"Output #21 : {0}\".format(string1_list1))\n",
    "\n",
    "# 공백문자를 기준으로 처음 2번까지 나눈다. ==> 3개의 요소 생김\n",
    "print(\"Output #22 : FIRST PIECE : {0}, SECOND PIECE : {1}, THIRD PIECE : {2}\"\\\n",
    "      .format(string1_list2[0], string1_list2[1], string1_list2[2]))\n",
    "\n",
    "string2 = \"Your,deliverable,is,due,in,June\"\n",
    "string2_list = string2.split(',')\n",
    "\n",
    "# ,(반점)을 기준으로 split\n",
    "print(\"Output #23 : {0}\".format(string2_list))\n",
    "\n",
    "# string2_list에 인덱스 지정으로 string2_list의 i번째 요소 출력\n",
    "# 음수 인덱스를 쓸 경우 끝에서 부터 인덱스 계산\n",
    "print(\"Output #24 ; {0} {1} {2}\".format(string2_list[1], string2_list[5], string2_list[-1]))\n",
    "\n",
    "# join 함수 : 리스트에 속한 부분 문자열들을 하나의 단일 문자열로 합치는 함수\n",
    "# 인수 : 부분 문자열 사이에 입력될 문자\n",
    "\n",
    "# string2_list의 부분 문자열들 사이마다 ,(반점)을 써서 하나의 문자열로 합친다.\n",
    "print(\"Output #25 : {0}\".format(','.join(string2_list)))"
   ]
  },
  {
   "cell_type": "code",
   "execution_count": 71,
   "metadata": {},
   "outputs": [
    {
     "name": "stdout",
     "output_type": "stream",
     "text": [
      "Output #26 : string3 :  Remove  unwanted characters   from this string.\t\t    \n",
      "\n",
      "Output #27 : lstrip : Remove  unwanted characters   from this string.\t\t    \n",
      "\n",
      "Output #28 : rstrip :  Remove  unwanted characters   from this string.\n",
      "Output #29 : strip : Remove  unwanted characters   from this string.\n"
     ]
    }
   ],
   "source": [
    "# strip 함수 : strip, lstrip, rstrip\n",
    "# 문자열의 끝에 원하지 않는 문자(공백문자, 탭, 개행문자 등)을 지우는 함수\n",
    "\n",
    "string3 = \" Remove  unwanted characters   from this string.\\t\\t    \\n\"\n",
    "\n",
    "# 문자열을 있는 그대로 출력\n",
    "print(\"Output #26 : string3 : {0:s}\".format(string3))\n",
    "\n",
    "# 왼쪽 끝 제거\n",
    "string3_lstrip = string3.lstrip()\n",
    "print(\"Output #27 : lstrip : {0:s}\".format(string3_lstrip))\n",
    "\n",
    "# 오른쪽 끝 제거\n",
    "string3_rstrip = string3.rstrip()\n",
    "print(\"Output #28 : rstrip : {0:s}\".format(string3_rstrip))\n",
    "\n",
    "# 양쪽 끝 제거\n",
    "string3_strip = string3.strip()\n",
    "print(\"Output #29 : strip : {0:s}\".format(string3_strip))"
   ]
  },
  {
   "cell_type": "code",
   "execution_count": 72,
   "metadata": {},
   "outputs": [
    {
     "name": "stdout",
     "output_type": "stream",
     "text": [
      "Output #30 : $$Here's another string that has unwanted characters.__---++\n",
      "Output #31 : Here's another string that has unwanted characters.\n"
     ]
    }
   ],
   "source": [
    "# strip에 추가적인 인수를 입력하여 문자열 양끝의 지정한 인수 문자를 제거하기\n",
    "string4 = \"$$Here's another string that has unwanted characters.__---++\"\n",
    "string4_strip = string4.strip('$_-+')\n",
    "\n",
    "# 문자열 그대로 출력\n",
    "print(\"Output #30 : {0:s}\".format(string4))\n",
    "\n",
    "# 문자열 끝의 $, _, -, + 문자들 제거\n",
    "print(\"Output #31 : {0:s}\".format(string4_strip))\n"
   ]
  },
  {
   "cell_type": "code",
   "execution_count": 73,
   "metadata": {},
   "outputs": [
    {
     "name": "stdout",
     "output_type": "stream",
     "text": [
      "Output #32 : Let's replace the spaces in this sentence with other characters\n",
      "Output #32(result) : (with !@!) : Let's!@!replace!@!the!@!spaces!@!in!@!this!@!sentence!@!with!@!other!@!characters\n",
      "Output #33 (with commas) : Let's,replace,the,spaces,in,this,sentence,with,other,characters\n"
     ]
    }
   ],
   "source": [
    "# replace 함수 : 문자열 내에 있는 하나의 문자나 문자 집합을 다른 문자 혹은 문자 집합으로 치환해주는 함수\n",
    "# 인수 : replace(변환하고자 하는 기존 문자 또는 문자집합, 치환하고 싶은 문자 또는 문자 집합)\n",
    "string5 = \"Let's replace the spaces in this sentence with other characters\"\n",
    "string5_replace = string5.replace(\" \", \"!@!\")\n",
    "\n",
    "# 문자열 그대로 출력\n",
    "print(\"Output #32 : {0:s}\".format(string5))\n",
    "\n",
    "# 문자열 내의 공백문자들을 '!@!'로 치환\n",
    "print(\"Output #32(result) : (with !@!) : {0:s}\".format(string5_replace))\n",
    "\n",
    "string5_replace = string5.replace(\" \", \",\")\n",
    "# 문자열 내의 공백 문자를 ','로 치환\n",
    "print(\"Output #33 (with commas) : {0:s}\".format(string5_replace))"
   ]
  },
  {
   "cell_type": "code",
   "execution_count": 74,
   "metadata": {},
   "outputs": [
    {
     "name": "stdout",
     "output_type": "stream",
     "text": [
      "Output #34 : here's what happens when you use lower.\n",
      "Output #35 : HERE'S WHAT HAPPENS WHEN YOU USE UPPER\n",
      "Output #36 : Here's what happens when you use capitalize.\n",
      "Output #37 (on each word) : \n",
      "Here's\n",
      "What\n",
      "Happens\n",
      "When\n",
      "You\n",
      "Use\n",
      "Capitalize.\n"
     ]
    }
   ],
   "source": [
    "# lower, upper, capitalize 함수\n",
    "# lower : 영어 문자들을 소문자로 변환\n",
    "# upper : 대문자로 변환\n",
    "# capitalize : 문자열 내의 첫번째 문자만 대문자고 나머지는 소문자로\n",
    "\n",
    "# lower : 모두 소문자로\n",
    "string6 = \"Here's WHAT Happens WHEN You Use lower.\"\n",
    "print(\"Output #34 : {0:s}\".format(string6.lower()))\n",
    "\n",
    "# upper : 모두 대문자로\n",
    "string7 = \"Here's what Happens when You Use UPPER\"\n",
    "print(\"Output #35 : {0:s}\".format(string7.upper()))\n",
    "\n",
    "# capitalize : 문자열 내 첫문자만 대문자로. 나머지는 소문자로\n",
    "string5 = \"here's WHAT Happens WHEN you use Capitalize.\"\n",
    "print(\"Output #36 : {0:s}\".format(string5.capitalize()))\n",
    "\n",
    "# string5 문자열을 split으로 잘라 리스트에 담고 요소마다 capitalize 함수로 반복문을 돌린다.\n",
    "string5_list = string5.split()\n",
    "print(\"Output #37 (on each word) : \")\n",
    "for word in string5_list:\n",
    "    print(\"{0:s}\".format(word.capitalize()))"
   ]
  },
  {
   "cell_type": "markdown",
   "metadata": {},
   "source": [
    "## 정규 표현식과 패턴 매칭"
   ]
  },
  {
   "cell_type": "code",
   "execution_count": 75,
   "metadata": {},
   "outputs": [],
   "source": [
    "# re 모듈 : 메타문자와 임의의 복잡한 패턴에 대해 생성 및 검색\n",
    "import re"
   ]
  },
  {
   "cell_type": "code",
   "execution_count": 76,
   "metadata": {},
   "outputs": [
    {
     "name": "stdout",
     "output_type": "stream",
     "text": [
      "Output #38 : 2\n"
     ]
    }
   ],
   "source": [
    "# re.complie, re.search, re.sub, re.ignorecase, re.I\n",
    "# 문자열 내에 등장하는 패턴의 횟수를 세기\n",
    "string = \"The quick brown fox jumps over the lazy dog.\"\n",
    "string_list = string.split()\n",
    "\n",
    "# re.complie(r\"패턴\", re.I) : 텍스트 기반의 패턴을 정규 표현식으로 컴파일\n",
    "# re.I : 임의의 패턴에 대해 대소문자 구분없이 취급\n",
    "# re.search : 패턴 검색. True, False or None로 반환\n",
    "# 문자열 표기법 r : 문자열 내에서 \\, \\t, \\n과 같은 특별한 문자들을 따로 처리하지 않도록 하는 표기법.\n",
    "pattern = re.compile(r\"The\", re.I)\n",
    "count = 0\n",
    "# string_list 요소에서 패턴이 검색 될 때마다 count 1 증가\n",
    "for word in string_list:\n",
    "    if pattern.search(word):\n",
    "        count += 1\n",
    "print(\"Output #38 : {0:d}\".format(count))"
   ]
  },
  {
   "cell_type": "code",
   "execution_count": 77,
   "metadata": {},
   "outputs": [
    {
     "name": "stdout",
     "output_type": "stream",
     "text": [
      "Output #39 : \n",
      "The\n",
      "the\n"
     ]
    }
   ],
   "source": [
    "# 문자열 내에서 발견된 패턴 출력하기\n",
    "string = \"The quick brown fox jumps over the lazy song\"\n",
    "string_list = string.split()\n",
    "# (?P<패턴 그룹명>패턴)\n",
    "# re.search.group(패턴 그룹명) : 패턴 그룹의 패턴과 일치하는 문자를 찾아 출력.\n",
    "pattern = re.compile(r\"(?P<match_word>The)\", re.I)\n",
    "print(\"Output #39 : \")\n",
    "for word in string_list:\n",
    "    if pattern.search(word) :\n",
    "        print(\"{:s}\".format(pattern.search(word).group(\"match_word\")))"
   ]
  },
  {
   "cell_type": "code",
   "execution_count": 78,
   "metadata": {},
   "outputs": [
    {
     "name": "stdout",
     "output_type": "stream",
     "text": [
      "Output #40 : a quick brown fox jumps over a lazy song\n"
     ]
    }
   ],
   "source": [
    "# re.sub(대체할 패턴, 해당 문자열) : 문자열 내의 특정 패턴을 다른 패턴으로 대체하기\n",
    "string = \"The quick brown fox jumps over the lazy song\"\n",
    "string_to_find = r\"The\"\n",
    "pattern = re.compile(string_to_find, re.I)\n",
    "print(\"Output #40 : {:s}\".format(pattern.sub(\"a\", string)))"
   ]
  },
  {
   "cell_type": "markdown",
   "metadata": {},
   "source": [
    "## 날짜"
   ]
  },
  {
   "cell_type": "code",
   "execution_count": 79,
   "metadata": {},
   "outputs": [],
   "source": [
    "from datetime import date, time, datetime, timedelta"
   ]
  },
  {
   "cell_type": "code",
   "execution_count": 80,
   "metadata": {},
   "outputs": [
    {
     "name": "stdout",
     "output_type": "stream",
     "text": [
      "Output #41 : today : 2019-11-11\n",
      "Output #42 : 2019\n",
      "Output #43 : 11\n",
      "Output #44 : 11\n",
      "Output #45 : 2019-11-11 18:48:05.192344\n"
     ]
    }
   ],
   "source": [
    "# 오늘 날짜와 년, 월, 일 요소들을 출력하기\n",
    "# date.today() : 년, 월, 일\n",
    "today = date.today()\n",
    "print(\"Output #41 : today : {0!s}\".format(today))\n",
    "print(\"Output #42 : {0!s}\".format(today.year))\n",
    "print(\"Output #43 : {0!s}\".format(today.month))\n",
    "print(\"Output #44 : {0!s}\".format(today.day))\n",
    "# datetime.today() : 년, 월, 일, 시, 분, 초\n",
    "current_datetime = datetime.today()\n",
    "print(\"Output #45 : {0!s}\".format(current_datetime))"
   ]
  },
  {
   "cell_type": "code",
   "execution_count": 81,
   "metadata": {},
   "outputs": [
    {
     "name": "stdout",
     "output_type": "stream",
     "text": [
      "Output #46 : yesterday : 2019-11-10\n",
      "Output #47 : -1 57600\n"
     ]
    }
   ],
   "source": [
    "# timedelta 함수를 이용하여 새로운 날짜 계산하기\n",
    "# timedelta(days = , hours = , weeks = )\n",
    "one_day = timedelta(days = -1)\n",
    "yesterday = today + one_day\n",
    "print(\"Output #46 : yesterday : {0!s}\".format(yesterday))\n",
    "eight_hours = timedelta(hours = -8)\n",
    "print(\"Output #47 : {0!s} {1!s}\".format(eight_hours.days, eight_hours.seconds))"
   ]
  },
  {
   "cell_type": "code",
   "execution_count": 82,
   "metadata": {},
   "outputs": [
    {
     "name": "stdout",
     "output_type": "stream",
     "text": [
      "Output #48 : 1 day, 0:00:00\n",
      "Output #49 : 1\n"
     ]
    }
   ],
   "source": [
    "# 두 날짜 사이의 날짜 차이를 계산하기\n",
    "date_diff = today - yesterday\n",
    "print(\"Output #48 : {0!s}\".format(date_diff))\n",
    "# 인덱스 설정으로 시, 분, 초를 제외하고 day 결과만 가져오기\n",
    "print(\"Output #49 : {0!s}\".format(str(date_diff).split()[0]))"
   ]
  },
  {
   "cell_type": "code",
   "execution_count": 83,
   "metadata": {},
   "outputs": [
    {
     "name": "stdout",
     "output_type": "stream",
     "text": [
      "Output #50 : 11/11/2019\n",
      "Output #50 : Nov 11, 2019\n",
      "Output #50 : 2019-11-11\n",
      "Output #50 : November 11, 2019\n"
     ]
    }
   ],
   "source": [
    "# strftime(지정형식) : date 객체를 특정 형식의 문자열로 만들기\n",
    "# %m : 2자리 월, %d : 일, %Y : 4자리 년, %y : 2자리 년\n",
    "# %b : 월 문자 줄임표현, %B : 월 문자 풀네임\n",
    "print(\"Output #50 : {:s}\".format(today.strftime('%m/%d/%Y')))\n",
    "print(\"Output #50 : {:s}\".format(today.strftime('%b %d, %Y')))\n",
    "print(\"Output #50 : {:s}\".format(today.strftime('%Y-%m-%d')))\n",
    "print(\"Output #50 : {:s}\".format(today.strftime('%B %d, %Y')))"
   ]
  },
  {
   "cell_type": "code",
   "execution_count": 84,
   "metadata": {},
   "outputs": [
    {
     "name": "stdout",
     "output_type": "stream",
     "text": [
      "Output #54 : 2019-11-11\n",
      "Output #55 : 2019-11-11 00:00:00\n",
      "Output #56 : 2019-11-11\n",
      "Output #57 : 2019-11-11\n"
     ]
    }
   ],
   "source": [
    "# 날짜 문자열로부터 특정 형식의 datetime 객체를 생성하기\n",
    "date1 = today.strftime('%m/%d/%Y')\n",
    "date2 = today.strftime('%b %d, %Y')\n",
    "date3 = today.strftime('%Y-%m-%d')\n",
    "date4 = today.strftime('%B %d, %Y')\n",
    "\n",
    "# 다른 날짜 형식을 지닌 4가지 문자열에 기반한\n",
    "# 각각 2종류의 datetime 객체들과 date 객체들\n",
    "d_format = datetime.strptime(date1, '%m/%d/%Y')\n",
    "print(\"Output #54 : {!s}\".format(str(d_format).split()[0]))\n",
    "print(\"Output #55 : {!s}\".format(datetime.strptime(date2, '%b %d, %Y')))\n",
    "\n",
    "# split()과 인덱스 설정없이 날짜 부분만 출력하기\n",
    "print(\"Output #56 : {!s}\".format(datetime.date(datetime.strptime(date3, '%Y-%m-%d'))))\n",
    "print(\"Output #57 : {!s}\".format(datetime.date(datetime.strptime(date4, '%B %d, %Y'))))"
   ]
  },
  {
   "cell_type": "markdown",
   "metadata": {},
   "source": [
    "## 리스트"
   ]
  },
  {
   "cell_type": "markdown",
   "metadata": {},
   "source": [
    "### 리스트 만들기"
   ]
  },
  {
   "cell_type": "code",
   "execution_count": 85,
   "metadata": {},
   "outputs": [
    {
     "name": "stdout",
     "output_type": "stream",
     "text": [
      "Output #58 : [1, 2, 3]\n",
      "Output #59 : a_list has 3 elements.\n",
      "Output #60 : the maximum value in a_list is 3\n",
      "Output #61 : the minimum value in a_list is 1\n",
      "Output #62 : ['printer', 5, ['star', 'circle', 9], 5]\n",
      "Output #63 : another_list also has 4 elements.\n",
      "Output #64 : 5 is in another_list 2 time.\n"
     ]
    }
   ],
   "source": [
    "# 리스트를 만들기 위해 대괄호를 사용한다.\n",
    "# len() 함수를 통해 리스트 내 원소의 수를 센다.\n",
    "# max() 함수와 min() 함수는 최대/최소 값을 찾는다.\n",
    "# count() 함수는 리스트 내 특정 값이 등장한 횟수를 센다.\n",
    "\n",
    "a_list = [1, 2, 3]\n",
    "print(\"Output #58 : {}\".format(a_list))\n",
    "print(\"Output #59 : a_list has {} elements.\".format(len(a_list)))\n",
    "print(\"Output #60 : the maximum value in a_list is {}\".format(max(a_list)))\n",
    "print(\"Output #61 : the minimum value in a_list is {}\".format(min(a_list)))\n",
    "another_list = ['printer', 5, ['star', 'circle', 9], 5]\n",
    "print(\"Output #62 : {}\".format(another_list))\n",
    "print(\"Output #63 : another_list also has {} elements.\".format(len(another_list)))\n",
    "print(\"Output #64 : 5 is in another_list {} time.\".format(another_list.count(5)))"
   ]
  },
  {
   "cell_type": "markdown",
   "metadata": {},
   "source": [
    "### 인덱스"
   ]
  },
  {
   "cell_type": "code",
   "execution_count": 86,
   "metadata": {},
   "outputs": [
    {
     "name": "stdout",
     "output_type": "stream",
     "text": [
      "Output #65 : 1\n",
      "Output #66 : 2\n",
      "Output #67 : 3\n",
      "Output #68 : 3\n",
      "Output #69 : 2\n",
      "Output #70 : 1\n",
      "Output #71 : ['star', 'circle', 9]\n",
      "Output #72 : 5\n"
     ]
    }
   ],
   "source": [
    "# 리스트 내 특정 원소에 접근하기 위해 인덱스 이용하기\n",
    "# [0]은 첫 번째 원소이다. [-1]은 마지막 원소이다. 파이썬은 음수 인덱스는 거꾸로 센다.\n",
    "# a_list = [1, 2, 3]\n",
    "# another_list = ['printer', 5, ['star', 'circle', 9], 5]\n",
    "print(\"Output #65 : {}\".format(a_list[0]))\n",
    "print(\"Output #66 : {}\".format(a_list[1]))\n",
    "print(\"Output #67 : {}\".format(a_list[2]))\n",
    "print(\"Output #68 : {}\".format(a_list[-1]))\n",
    "print(\"Output #69 : {}\".format(a_list[-2]))\n",
    "print(\"Output #70 : {}\".format(a_list[-3]))\n",
    "print(\"Output #71 : {}\".format(another_list[2]))\n",
    "print(\"Output #72 : {}\".format(another_list[-1]))\n"
   ]
  },
  {
   "cell_type": "markdown",
   "metadata": {},
   "source": [
    "### 리스트 분할하기"
   ]
  },
  {
   "cell_type": "code",
   "execution_count": 87,
   "metadata": {},
   "outputs": [
    {
     "name": "stdout",
     "output_type": "stream",
     "text": [
      "Output #73 : [1, 2]\n",
      "Output #74 : [1, 2]\n",
      "Output #75 : [2, 3]\n",
      "Output #76 : [2, 3]\n"
     ]
    }
   ],
   "source": [
    "# [:] : 리스트 분할을 사용하여 리스트 원소들의 부분집합 만들기\n",
    "# 맨 앞부터 분할하는 경우, 최초 인덱스를 생략한다.\n",
    "# 맨 뒤까지 리스트를 분할하는 경우, 마지막 인덱스는 생략한다.\n",
    "print(\"Output #73 : {}\".format(a_list[0:2])) # 인덱스 0부터 두 번째 원소까지\n",
    "print(\"Output #74 : {}\".format(a_list[:2]))  # 맨 앞부터 두 번째 원소까지\n",
    "print(\"Output #75 : {}\".format(a_list[1:3])) # 인덱스 1부터 세 번째 원소까지\n",
    "print(\"Output #76 : {}\".format(a_list[1:]))  # 인덱스 1부터 끝까지"
   ]
  },
  {
   "cell_type": "markdown",
   "metadata": {},
   "source": [
    "### 리스트 복사하기"
   ]
  },
  {
   "cell_type": "code",
   "execution_count": 88,
   "metadata": {},
   "outputs": [
    {
     "name": "stdout",
     "output_type": "stream",
     "text": [
      "Output #77 : [1, 2, 3]\n"
     ]
    }
   ],
   "source": [
    "# [:]를 이용하여 리스트 복사하기\n",
    "a_new_list = a_list[:]\n",
    "print(\"Output #77 : {}\".format(a_new_list))"
   ]
  },
  {
   "cell_type": "markdown",
   "metadata": {},
   "source": [
    "### 리스트 병합하기"
   ]
  },
  {
   "cell_type": "code",
   "execution_count": 89,
   "metadata": {},
   "outputs": [
    {
     "name": "stdout",
     "output_type": "stream",
     "text": [
      "Output #78 : [1, 2, 3, 'printer', 5, ['star', 'circle', 9], 5]\n"
     ]
    }
   ],
   "source": [
    "# + 연산자를 이용하여 2개 이상의 리스트 병합하기\n",
    "# a_list = [1, 2, 3]\n",
    "# another_list = ['printer', 5, ['star', 'circle', 9], 5]\n",
    "a_longer_list = a_list + another_list\n",
    "print(\"Output #78 : {}\".format(a_longer_list))"
   ]
  },
  {
   "cell_type": "markdown",
   "metadata": {},
   "source": [
    "### in과 not in"
   ]
  },
  {
   "cell_type": "code",
   "execution_count": 90,
   "metadata": {},
   "outputs": [
    {
     "name": "stdout",
     "output_type": "stream",
     "text": [
      "Output #79 : True\n",
      "Output #80 : 2 is in [1, 2, 3]\n",
      "Output #81 : True\n",
      "Output #81 : 6 is not in [1, 2, 3]\n"
     ]
    }
   ],
   "source": [
    "# in과 not in을 이용하여 특정 원소의 리스트 내 포함 여부를 확인하기\n",
    "# a_list = [1, 2, 3]\n",
    "a = 2 in a_list\n",
    "print(\"Output #79 : {}\".format(a))\n",
    "if 2 in a_list :\n",
    "    print(\"Output #80 : 2 is in {}\".format(a_list))\n",
    "b = 6 not in a_list\n",
    "print(\"Output #81 : {}\".format(b))\n",
    "if 6 not in a_list : \n",
    "    print(\"Output #81 : 6 is not in {}\".format(a_list))"
   ]
  },
  {
   "cell_type": "markdown",
   "metadata": {},
   "source": [
    "### append, remove, pop"
   ]
  },
  {
   "cell_type": "code",
   "execution_count": 91,
   "metadata": {},
   "outputs": [
    {
     "name": "stdout",
     "output_type": "stream",
     "text": [
      "Output #83 : [1, 2, 3, 4, 5, 6]\n",
      "Output #84 : [1, 2, 3, 4, 6]\n",
      "Output #85 : [1, 2, 3]\n"
     ]
    }
   ],
   "source": [
    "# append() 함수 : 리스트의 마지막에 원소를 추가할 수 있게 한다.\n",
    "# remove() 함수 : 리스트 내 특정 원소 제거\n",
    "# pop() 함수 : 리스트의 마지막 원소 제거\n",
    "\n",
    "a_list.append(4)\n",
    "a_list.append(5)\n",
    "a_list.append(6)\n",
    "print(\"Output #83 : {}\".format(a_list))\n",
    "a_list.remove(5)\n",
    "print(\"Output #84 : {}\".format(a_list))\n",
    "a_list.pop()\n",
    "a_list.pop()\n",
    "print(\"Output #85 : {}\".format(a_list))"
   ]
  },
  {
   "cell_type": "markdown",
   "metadata": {},
   "source": [
    "### reverse 함수"
   ]
  },
  {
   "cell_type": "code",
   "execution_count": 92,
   "metadata": {},
   "outputs": [
    {
     "name": "stdout",
     "output_type": "stream",
     "text": [
      "Output #86 : [3, 2, 1]\n",
      "Output #87 : [1, 2, 3]\n"
     ]
    }
   ],
   "source": [
    "# reverse() 함수를 이용하여 리스트 반전하기\n",
    "# 인플레이스 변경을 시키기 때문에 원본이 수정되길 원하지 않는다면 사본을 만들어두고 해야한다.\n",
    "a_list.reverse()\n",
    "print(\"Output #86 : {}\".format(a_list))\n",
    "a_list.reverse()\n",
    "print(\"Output #87 : {}\".format(a_list))"
   ]
  },
  {
   "cell_type": "markdown",
   "metadata": {},
   "source": [
    "### sort 함수"
   ]
  },
  {
   "cell_type": "code",
   "execution_count": 93,
   "metadata": {},
   "outputs": [
    {
     "name": "stdout",
     "output_type": "stream",
     "text": [
      "Output #88 : [3, 5, 7, 1, 2, 8, 4, 9, 0, 6]\n",
      "Output #89 : [0, 1, 2, 3, 4, 5, 6, 7, 8, 9]\n",
      "Output #90 : [3, 5, 7, 1, 2, 8, 4, 9, 0, 6]\n"
     ]
    }
   ],
   "source": [
    "# sort() 함수를 이용하여 리스트를 인플레이스로 정렬하기\n",
    "# 원본 리스트 정렬을 원하지 않는다면 사본을 만들어두고 해야한다.\n",
    "\n",
    "unordered_list = [3, 5, 7, 1, 2, 8, 4, 9, 0, 6]\n",
    "print(\"Output #88 : {}\".format(unordered_list))\n",
    "list_copy = unordered_list[:]\n",
    "list_copy.sort()\n",
    "print(\"Output #89 : {}\".format(list_copy))\n",
    "print(\"Output #90 : {}\".format(unordered_list))"
   ]
  },
  {
   "cell_type": "markdown",
   "metadata": {},
   "source": [
    "### sorted 함수"
   ]
  },
  {
   "cell_type": "code",
   "execution_count": 94,
   "metadata": {},
   "outputs": [
    {
     "name": "stdout",
     "output_type": "stream",
     "text": [
      "Output #91 : [[4, 3, 2, 1], [2, 4, 1, 3], [1, 2, 3, 4]]\n"
     ]
    }
   ],
   "source": [
    "# sorted() 함수를 이용하여 리스트들의 특정 위치에 따라 리스트 정렬하기\n",
    "# sorted(정렬 할 리스트, key = lambda index_value : index_value[인덱스])\n",
    "my_lists = [[1, 2, 3, 4],[4, 3, 2, 1], [2, 4, 1, 3]]\n",
    "my_lists_sorted_by_index_3 = sorted(my_lists, key = lambda index_value : index_value[3])\n",
    "print(\"Output #91 : {}\".format(my_lists_sorted_by_index_3))"
   ]
  },
  {
   "cell_type": "markdown",
   "metadata": {},
   "source": [
    "### operator 모듈로 정렬"
   ]
  },
  {
   "cell_type": "markdown",
   "metadata": {},
   "source": [
    "+ operator 모듈의 itemgetter 함수를 임포트하면 각 리스트의 다양한 위치에 따라 리스트를 정렬할 수 있다."
   ]
  },
  {
   "cell_type": "code",
   "execution_count": 95,
   "metadata": {},
   "outputs": [
    {
     "name": "stdout",
     "output_type": "stream",
     "text": [
      "Output #92 : [[461, 1, 1, 290], [578, 1, 1, 290], [22, 6, 6, 444], [123, 2, 2, 444], [236, 5, 5, 678], [354, 4, 4, 678]]\n"
     ]
    }
   ],
   "source": [
    "from operator import itemgetter\n",
    "\n",
    "# itemgetter() 함수를 이용하여 2개 인덱스 위치에 따라 리스트 정렬하기\n",
    "my_lists = [[123, 2, 2, 444], [22, 6, 6, 444], [354, 4, 4, 678], [236, 5, 5, 678], [578, 1, 1, 290], [461, 1, 1, 290]]\n",
    "my_lists_sorted_by_index_3_and_0 = sorted(my_lists, key = itemgetter(3,0))\n",
    "print(\"Output #92 : {}\".format(my_lists_sorted_by_index_3_and_0))"
   ]
  },
  {
   "cell_type": "markdown",
   "metadata": {},
   "source": [
    "## 튜플"
   ]
  },
  {
   "cell_type": "markdown",
   "metadata": {},
   "source": [
    "+ 변경하지 못한다는 점을 제외하고 리스트와 매우 유사"
   ]
  },
  {
   "cell_type": "code",
   "execution_count": 96,
   "metadata": {},
   "outputs": [
    {
     "name": "stdout",
     "output_type": "stream",
     "text": [
      "Output #93 : ('x', 'y', 'z')\n",
      "Output #94 : my_tuple has 3 elements.\n",
      "Output #95 : y\n",
      "Output #96 : ('x', 'y', 'z', 'x', 'y', 'z')\n"
     ]
    }
   ],
   "source": [
    "# 괄호를 사용하여 튜플 생성\n",
    "my_tuple = ('x', 'y', 'z')\n",
    "print(\"Output #93 : {}\".format(my_tuple))\n",
    "print(\"Output #94 : my_tuple has {} elements.\".format(len(my_tuple)))\n",
    "print(\"Output #95 : {}\".format(my_tuple[1]))\n",
    "longer_tuple = my_tuple + my_tuple\n",
    "print(\"Output #96 : {}\".format(longer_tuple))"
   ]
  },
  {
   "cell_type": "markdown",
   "metadata": {},
   "source": [
    "### 튜플 풀기"
   ]
  },
  {
   "cell_type": "code",
   "execution_count": 97,
   "metadata": {},
   "outputs": [
    {
     "name": "stdout",
     "output_type": "stream",
     "text": [
      "Output #97 : x, y, z\n",
      "Output #98 : red, robin\n",
      "Output #99 : robin, red\n"
     ]
    }
   ],
   "source": [
    "# 할당 연산자(=)의 왼편에 튜플을 풀기\n",
    "one, two, three = my_tuple\n",
    "print(\"Output #97 : {0}, {1}, {2}\".format(one, two, three))\n",
    "var1 = 'red'\n",
    "var2 = 'robin'\n",
    "print(\"Output #98 : {}, {}\".format(var1, var2))\n",
    "var1, var2 = var2, var1\n",
    "print(\"Output #99 : {}, {}\".format(var1, var2))"
   ]
  },
  {
   "cell_type": "markdown",
   "metadata": {},
   "source": [
    "### 튜플을 리스트로 변환하기"
   ]
  },
  {
   "cell_type": "code",
   "execution_count": 98,
   "metadata": {},
   "outputs": [
    {
     "name": "stdout",
     "output_type": "stream",
     "text": [
      "Output #100 : (1, 2, 3)\n",
      "Output #101 : ['x', 'y', 'z']\n"
     ]
    }
   ],
   "source": [
    "my_list = [1, 2, 3]\n",
    "my_tuple = ('x', 'y', 'z')\n",
    "print(\"Output #100 : {}\".format(tuple(my_list)))\n",
    "print(\"Output #101 : {}\".format(list(my_tuple)))"
   ]
  },
  {
   "cell_type": "markdown",
   "metadata": {},
   "source": [
    "## 딕셔너리"
   ]
  },
  {
   "cell_type": "markdown",
   "metadata": {},
   "source": [
    "### 딕셔너리 생성하기"
   ]
  },
  {
   "cell_type": "code",
   "execution_count": 99,
   "metadata": {},
   "outputs": [
    {
     "name": "stdout",
     "output_type": "stream",
     "text": [
      "Output #102 : {'one': 1, 'two': 2, 'three': 3}\n",
      "Output #103 : a_dict has 3 elements.\n",
      "Output #104 : {'x': 'printer', 'y': 5, 'z': ['star', 'circle', 9]}\n",
      "Output #105 : another_dict also has 3 elements.\n"
     ]
    }
   ],
   "source": [
    "# 중괄호를 이용하여 딕셔너리 생성하기\n",
    "# 각 쌍의 키와 값 사이에 콜론을 사용한다.\n",
    "# len() 함수는 딕셔너리에 있는 키-값 쌍의 수를 센다.\n",
    "empty_dict = {}\n",
    "a_dict = {'one' : 1, 'two' : 2, 'three' : 3}\n",
    "print(\"Output #102 : {}\".format(a_dict))\n",
    "print(\"Output #103 : a_dict has {} elements.\".format(len(a_dict)))\n",
    "another_dict = {'x' : 'printer', 'y' : 5, 'z' : ['star', 'circle', 9]}\n",
    "print(\"Output #104 : {}\".format(another_dict))\n",
    "print(\"Output #105 : another_dict also has {} elements.\".format(len(another_dict)))"
   ]
  },
  {
   "cell_type": "markdown",
   "metadata": {},
   "source": [
    "### 딕셔너리 내 값 접근하기"
   ]
  },
  {
   "cell_type": "code",
   "execution_count": 100,
   "metadata": {},
   "outputs": [
    {
     "name": "stdout",
     "output_type": "stream",
     "text": [
      "Output #106 : 2\n",
      "Output #107 : ['star', 'circle', 9]\n"
     ]
    }
   ],
   "source": [
    "# 키를 사용하여 딕셔너리 내 특정 값에 접근하기\n",
    "print(\"Output #106 : {}\".format(a_dict['two']))\n",
    "print(\"Output #107 : {}\".format(another_dict['z']))"
   ]
  },
  {
   "cell_type": "markdown",
   "metadata": {},
   "source": [
    "### 복사하기"
   ]
  },
  {
   "cell_type": "code",
   "execution_count": 101,
   "metadata": {},
   "outputs": [
    {
     "name": "stdout",
     "output_type": "stream",
     "text": [
      "Output #108 : {'one': 1, 'two': 2, 'three': 3}\n"
     ]
    }
   ],
   "source": [
    "# copy() 함수를 이용하여 딕셔너리 사본 만들기\n",
    "a_new_dict = a_dict.copy()\n",
    "print(\"Output #108 : {}\".format(a_new_dict))"
   ]
  },
  {
   "cell_type": "markdown",
   "metadata": {},
   "source": [
    "### 키, 값, 아이템"
   ]
  },
  {
   "cell_type": "code",
   "execution_count": 102,
   "metadata": {},
   "outputs": [
    {
     "name": "stdout",
     "output_type": "stream",
     "text": [
      "Output #109 : dict_keys(['one', 'two', 'three'])\n",
      "Output #110 : dict_values([1, 2, 3])\n",
      "Output #111 : dict_items([('one', 1), ('two', 2), ('three', 3)])\n"
     ]
    }
   ],
   "source": [
    "# keys(), values(), items()를 사용하여\n",
    "# 딕셔너리 키, 값, 키-값 쌍에 접근하기\n",
    "print(\"Output #109 : {}\".format(a_dict.keys()))\n",
    "print(\"Output #110 : {}\".format(a_dict.values()))\n",
    "print(\"Output #111 : {}\".format(a_dict.items()))"
   ]
  },
  {
   "cell_type": "markdown",
   "metadata": {},
   "source": [
    "### in, not in, get 이용하기"
   ]
  },
  {
   "cell_type": "code",
   "execution_count": 103,
   "metadata": {},
   "outputs": [
    {
     "name": "stdout",
     "output_type": "stream",
     "text": [
      "Output #114 : y is a key in another_dict : dict_keys(['x', 'y', 'z'])\n",
      "Output #115 : c is not a key in another_dict : dict_keys(['x', 'y', 'z'])\n",
      "Output #116 : 3\n",
      "Output #117 : None\n",
      "Output #118 : Not in dict\n"
     ]
    }
   ],
   "source": [
    "if 'y' in another_dict : \n",
    "    print(\"Output #114 : y is a key in another_dict : {}\".format(another_dict.keys()))\n",
    "if 'c' not in another_dict :\n",
    "    print(\"Output #115 : c is not a key in another_dict : {}\".format(another_dict.keys()))\n",
    "print(\"Output #116 : {!s}\".format(a_dict.get('three')))\n",
    "print(\"Output #117 : {!s}\".format(a_dict.get('four')))\n",
    "# get() 함수에 추가 인수를 받아 특정 키가 존재 하지 않을 경우 None 출력 대신 추가로 입력한 인수를 출력.\n",
    "print(\"Output #118 : {!s}\".format(a_dict.get('four', 'Not in dict')))"
   ]
  },
  {
   "cell_type": "markdown",
   "metadata": {},
   "source": [
    "### 정렬하기"
   ]
  },
  {
   "cell_type": "code",
   "execution_count": 104,
   "metadata": {},
   "outputs": [
    {
     "name": "stdout",
     "output_type": "stream",
     "text": [
      "Output #119 : a_dict : {'one': 1, 'two': 2, 'three': 3}\n",
      "Output #120 : (order by keys) : [('one', 1), ('three', 3), ('two', 2)]\n",
      "Output #121 : (order by values) : [('one', 1), ('two', 2), ('three', 3)]\n",
      "Output #122 : (order by values, descending) : [('three', 3), ('two', 2), ('one', 1)]\n",
      "Output #123 : (order by values, ascending) : [('one', 1), ('two', 2), ('three', 3)]\n"
     ]
    }
   ],
   "source": [
    "# sorted() 함수를 이용하여 딕셔너리 정렬하기\n",
    "# 인플레이스 정렬이다.\n",
    "# 원본 딕셔너리를 수정하지 않고 정렬하려면 사본을 만들어야한다.\n",
    "print(\"Output #119 : a_dict : {}\".format(a_dict))\n",
    "dict_copy = a_dict.copy()\n",
    "ordered_dict1 = sorted(dict_copy.items(), key=lambda item : item[0])\n",
    "\n",
    "# item[0]은 key 기준으로 sort, item[1]은 value 기준으로 sort\n",
    "print(\"Output #120 : (order by keys) : {}\".format(ordered_dict1))\n",
    "ordered_dict2 = sorted(dict_copy.items(), key=lambda item : item[1])\n",
    "print(\"Output #121 : (order by values) : {}\".format(ordered_dict2))\n",
    "\n",
    "# 오름차순, 내림차순. default는 오름차순\n",
    "ordered_dict3 = sorted(dict_copy.items(), key=lambda item : item[1], reverse = True)\n",
    "print(\"Output #122 : (order by values, descending) : {}\".format(ordered_dict3))\n",
    "ordered_dict4 = sorted(dict_copy.items(), key=lambda item : item[1], reverse = False)\n",
    "print(\"Output #123 : (order by values, ascending) : {}\".format(ordered_dict4))"
   ]
  },
  {
   "cell_type": "markdown",
   "metadata": {},
   "source": [
    "## 제어 흐름"
   ]
  },
  {
   "cell_type": "markdown",
   "metadata": {},
   "source": [
    "+ if-else-else, for, range 등등"
   ]
  },
  {
   "cell_type": "markdown",
   "metadata": {},
   "source": [
    "### if-else"
   ]
  },
  {
   "cell_type": "code",
   "execution_count": 105,
   "metadata": {},
   "outputs": [
    {
     "name": "stdout",
     "output_type": "stream",
     "text": [
      "Output #124 : 5\n"
     ]
    }
   ],
   "source": [
    "# if-else문\n",
    "x = 5\n",
    "if x > 4 or x != 9:\n",
    "    print(\"Output #124 : {}\".format(x))\n",
    "else:\n",
    "    print(\"Output #124 : x is not greater than 4\")"
   ]
  },
  {
   "cell_type": "code",
   "execution_count": 106,
   "metadata": {},
   "outputs": [
    {
     "name": "stdout",
     "output_type": "stream",
     "text": [
      "Output #125 : 25\n"
     ]
    }
   ],
   "source": [
    "### if-elif-else\n",
    "if x > 6:\n",
    "    print(\"Output #125 : x is greater than six\")\n",
    "elif x > 4 and x == 5:\n",
    "    print(\"Output #125 : {}\".format(x*x))\n",
    "else :\n",
    "    print(\"Output #125 : x is not greater than 4\")"
   ]
  },
  {
   "cell_type": "markdown",
   "metadata": {},
   "source": [
    "### for 루프"
   ]
  },
  {
   "cell_type": "code",
   "execution_count": 107,
   "metadata": {},
   "outputs": [
    {
     "name": "stdout",
     "output_type": "stream",
     "text": [
      "Output #126 : \n",
      "Jan\n",
      "Feb\n",
      "Mar\n",
      "Apr\n",
      "May\n",
      "Jun\n",
      "Jul\n",
      "Aug\n",
      "Sep\n",
      "Oct\n",
      "Nov\n",
      "Dec\n",
      "Output #127 : (index value : name in list)\n",
      "0 : Annie\n",
      "1 : Betty\n",
      "2 : Claire\n",
      "3 : Daphne\n",
      "4 : Ellie\n",
      "5 : Franchesca\n",
      "6 : Greta\n",
      "7 : Holly\n",
      "8 : Isabel\n",
      "9 : Jenny\n",
      "Output #128 : (acceess elements in y with z's index values)\n",
      "Jan\n",
      "Jun\n",
      "Jul\n",
      "Output #129 : \n",
      "x, printer\n",
      "y, 5\n",
      "z, ['star', 'circle', 9]\n"
     ]
    }
   ],
   "source": [
    "y = ['Jan', 'Feb', 'Mar', 'Apr', 'May', 'Jun', 'Jul', 'Aug', 'Sep', 'Oct', 'Nov', 'Dec']\n",
    "z = ['Annie', 'Betty', 'Claire', 'Daphne', 'Ellie', 'Franchesca', 'Greta', 'Holly', 'Isabel', 'Jenny']\n",
    "\n",
    "# y 리스트 원소 출력\n",
    "print(\"Output #126 : \")\n",
    "for month in y:\n",
    "    print(\"{!s}\".format(month))\n",
    "\n",
    "# range(len(리스트)) : 리스트 원소들의 인덱스 값을 가져와 임의의 변수 i로 리스트 인덱스 관련 반복문을 작성할 수 있다.\n",
    "print(\"Output #127 : (index value : name in list)\")\n",
    "for i in range(len(z)):\n",
    "    print(\"{0!s} : {1:s}\".format(i, z[i]))\n",
    "    \n",
    "# range(len(리스트)) 응용 : z 리스트에 대해 인덱스 값을 가져와,\n",
    "# y 리스트에서 특정 if 조건이 성립되는 그 인덱스 값에 해당하는 값을 가져온다.\n",
    "print(\"Output #128 : (acceess elements in y with z's index values)\")\n",
    "for j in range(len(z)):\n",
    "    if y[j].startswith('J'):\n",
    "        print(\"{!s}\".format(y[j]))\n",
    "\n",
    "# 딕셔너리의 key-value 에 대해 반복문 실행. \n",
    "print(\"Output #129 : \")\n",
    "for key, value in another_dict.items():\n",
    "    print(\"{0:s}, {1}\".format(key, value))"
   ]
  },
  {
   "cell_type": "markdown",
   "metadata": {},
   "source": [
    "### 간결한 for 문 : list, set, dictionary 축약"
   ]
  },
  {
   "cell_type": "markdown",
   "metadata": {},
   "source": [
    "+ 리스트 축약"
   ]
  },
  {
   "cell_type": "code",
   "execution_count": 108,
   "metadata": {},
   "outputs": [
    {
     "name": "stdout",
     "output_type": "stream",
     "text": [
      "Output #130 (list comprehension) : [[4, 5, 6], [7, 8, 9]]\n"
     ]
    }
   ],
   "source": [
    "# 리스트 축약을 이용하여 특정 행을 고르기\n",
    "my_data = [[1, 2, 3], [4, 5, 6], [7, 8, 9]]\n",
    "rows_to_keep = [row for row in my_data if row[2] > 5]\n",
    "print(\"Output #130 (list comprehension) : {}\".format(rows_to_keep))"
   ]
  },
  {
   "cell_type": "markdown",
   "metadata": {},
   "source": [
    "+ 집합(set) 축약"
   ]
  },
  {
   "cell_type": "code",
   "execution_count": 109,
   "metadata": {},
   "outputs": [
    {
     "name": "stdout",
     "output_type": "stream",
     "text": [
      "Output #131 (set comprehension) : {(4, 5, 6), (7, 8, 9), (1, 2, 3)})\n",
      "Output #132 (set function) : {(4, 5, 6), (7, 8, 9), (1, 2, 3)}\n"
     ]
    }
   ],
   "source": [
    "# 집합 축약을 이용하여 리스트의 고유한 튜플의 집합을 추출하기\n",
    "my_data = [(1, 2, 3), (4, 5, 6), (7, 8, 9), (7, 8, 9)]\n",
    "set_of_tuples1 = {x for x in my_data}\n",
    "print(\"Output #131 (set comprehension) : {})\".format(set_of_tuples1))\n",
    "set_of_tuple2 = set(my_data)\n",
    "print(\"Output #132 (set function) : {}\".format(set_of_tuple2))"
   ]
  },
  {
   "cell_type": "markdown",
   "metadata": {},
   "source": [
    "+ 딕셔너리 축약"
   ]
  },
  {
   "cell_type": "code",
   "execution_count": 110,
   "metadata": {},
   "outputs": [
    {
     "name": "stdout",
     "output_type": "stream",
     "text": [
      "Output #133 (dictionary comprehension) : {'customer3': 11}\n"
     ]
    }
   ],
   "source": [
    "# 딕셔너리 축약을 이용하여 특정 키-값 쌍들을 고르기\n",
    "my_dictionary = {'customer1' : 7, 'customer2' : 9, 'customer3' : 11}\n",
    "my_results = {key : value for key, value in my_dictionary.items() if value>10}\n",
    "print(\"Output #133 (dictionary comprehension) : {}\".format(my_results))"
   ]
  },
  {
   "cell_type": "markdown",
   "metadata": {},
   "source": [
    "### while문"
   ]
  },
  {
   "cell_type": "code",
   "execution_count": 111,
   "metadata": {},
   "outputs": [
    {
     "name": "stdout",
     "output_type": "stream",
     "text": [
      "Output #134 : \n",
      "0\n",
      "1\n",
      "2\n",
      "3\n",
      "4\n",
      "5\n",
      "6\n",
      "7\n",
      "8\n",
      "9\n",
      "10\n"
     ]
    }
   ],
   "source": [
    "print(\"Output #134 : \")\n",
    "x = 0\n",
    "while x < 11:\n",
    "    print(\"{!s}\".format(x))\n",
    "    x += 1"
   ]
  },
  {
   "cell_type": "markdown",
   "metadata": {},
   "source": [
    "## 함수"
   ]
  },
  {
   "cell_type": "code",
   "execution_count": 112,
   "metadata": {},
   "outputs": [
    {
     "name": "stdout",
     "output_type": "stream",
     "text": [
      "Output #135 (mean) : 5.0\n"
     ]
    }
   ],
   "source": [
    "# 숫자 시퀀스의 평균 계산하기\n",
    "def getMean(numericValues):\n",
    "    return sum(numericValues)/len(numericValues) if len(numericValues) > 0 else float('nan')\n",
    "\n",
    "my_list = [2, 2, 4, 4, 6, 6, 8, 8]\n",
    "print(\"Output #135 (mean) : {!s}\".format(getMean(my_list)))"
   ]
  },
  {
   "cell_type": "code",
   "execution_count": 113,
   "metadata": {},
   "outputs": [
    {
     "name": "stdout",
     "output_type": "stream",
     "text": [
      "Output #136 (mean) : 5.0\n"
     ]
    }
   ],
   "source": [
    "import numpy as np\n",
    "print(\"Output #136 (mean) : {!s}\".format(np.mean(my_list)))"
   ]
  },
  {
   "cell_type": "markdown",
   "metadata": {},
   "source": [
    "## 예외 처리"
   ]
  },
  {
   "cell_type": "code",
   "execution_count": 114,
   "metadata": {},
   "outputs": [
    {
     "name": "stdout",
     "output_type": "stream",
     "text": [
      "Output #137 (error) : nan\n",
      "Output #137 (error) : division by zero\n"
     ]
    }
   ],
   "source": [
    "# 숫자 시퀀스의 평균 계산하기\n",
    "def getMean(numericValues):\n",
    "    return sum(numericValues) / len(numericValues)\n",
    "\n",
    "my_list2 = []\n",
    "\n",
    "# 짧은 버전\n",
    "try :\n",
    "    print(\"Output #137 : {}\".format(getMean(my_list2)))\n",
    "except ZeroDivisionError as detail:\n",
    "    print(\"Output #137 (error) : {}\".format(float('nan')))\n",
    "    print(\"Output #137 (error) : {}\".format(detail))"
   ]
  },
  {
   "cell_type": "markdown",
   "metadata": {},
   "source": [
    "### try-except-else-finally"
   ]
  },
  {
   "cell_type": "markdown",
   "metadata": {},
   "source": [
    "+ 예외 처리문에서 else문은 try문에 문제가 없을 경우, finally는 try-except에 상관없이 무조건 실행"
   ]
  },
  {
   "cell_type": "code",
   "execution_count": 115,
   "metadata": {},
   "outputs": [
    {
     "name": "stdout",
     "output_type": "stream",
     "text": [
      "Output #138 (Else : The mean is) : 5.0\n",
      "Output #138 (Finally) : The finally block is executed every time\n"
     ]
    }
   ],
   "source": [
    "# 긴 버전\n",
    "try:\n",
    "    result = getMean(my_list)\n",
    "except ZeroDivisionError as detail:\n",
    "    print(\"Output #138 (error) : {}\".format(float('nan')))\n",
    "    print(\"Output #138 (error) : {}\".format(detail))\n",
    "else:\n",
    "    print(\"Output #138 (Else : The mean is) : {!s}\".format(result))\n",
    "finally:\n",
    "    print(\"Output #138 (Finally) : The finally block is executed every time\")"
   ]
  },
  {
   "cell_type": "markdown",
   "metadata": {},
   "source": [
    "## 텍스트 파일 읽기"
   ]
  },
  {
   "cell_type": "markdown",
   "metadata": {},
   "source": [
    "+ VS Code로 실습"
   ]
  },
  {
   "cell_type": "markdown",
   "metadata": {},
   "source": [
    "## glob을 이용해 다수의 텍스트 파일 읽기"
   ]
  },
  {
   "cell_type": "markdown",
   "metadata": {},
   "source": [
    "+ VS Code로 실습"
   ]
  },
  {
   "cell_type": "markdown",
   "metadata": {},
   "source": [
    "## 텍스트 파일 쓰기"
   ]
  },
  {
   "cell_type": "markdown",
   "metadata": {},
   "source": [
    "+ VS Code로 실습"
   ]
  },
  {
   "cell_type": "markdown",
   "metadata": {},
   "source": [
    "## CSV 파일 쓰기"
   ]
  },
  {
   "cell_type": "markdown",
   "metadata": {},
   "source": [
    "+ VS Code로 실습"
   ]
  },
  {
   "cell_type": "code",
   "execution_count": null,
   "metadata": {},
   "outputs": [],
   "source": []
  }
 ],
 "metadata": {
  "kernelspec": {
   "display_name": "Python 3",
   "language": "python",
   "name": "python3"
  },
  "language_info": {
   "codemirror_mode": {
    "name": "ipython",
    "version": 3
   },
   "file_extension": ".py",
   "mimetype": "text/x-python",
   "name": "python",
   "nbconvert_exporter": "python",
   "pygments_lexer": "ipython3",
   "version": "3.7.4"
  }
 },
 "nbformat": 4,
 "nbformat_minor": 2
}
